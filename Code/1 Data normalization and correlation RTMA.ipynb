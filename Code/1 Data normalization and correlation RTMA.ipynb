{
 "cells": [
  {
   "cell_type": "markdown",
   "id": "c439f726",
   "metadata": {},
   "source": [
    "## Data set preparation for ML model development - correlation based variable pool with RTMA data"
   ]
  },
  {
   "cell_type": "markdown",
   "id": "6f8c8af6",
   "metadata": {},
   "source": [
    "### Set up/check environment"
   ]
  },
  {
   "cell_type": "code",
   "execution_count": null,
   "id": "a5799981",
   "metadata": {
    "scrolled": true
   },
   "outputs": [],
   "source": [
    "# Check environment\n",
    "!conda info"
   ]
  },
  {
   "cell_type": "code",
   "execution_count": null,
   "id": "00052d66",
   "metadata": {},
   "outputs": [],
   "source": [
    "# Import packages \n",
    "import pandas as pd\n",
    "import random\n",
    "import numpy as np\n",
    "import sklearn\n",
    "from sklearn import datasets\n",
    "from datetime import datetime\n",
    "from itertools import cycle\n",
    "import glob2\n",
    "import os\n",
    "import seaborn as sns\n",
    "from sklearn.decomposition import PCA\n",
    "from sklearn.model_selection import train_test_split\n",
    "import matplotlib.pyplot as plt\n",
    "import scipy.stats as stats\n",
    "from sklearn.preprocessing import LabelBinarizer as lb\n",
    "\n",
    "# Set the number of maximum displayed rows for printed dataframes to 1000\n",
    "pd.set_option('display.max_rows', 1000)"
   ]
  },
  {
   "cell_type": "code",
   "execution_count": null,
   "id": "57839947-e4c6-46a9-996e-97807d5774fc",
   "metadata": {},
   "outputs": [],
   "source": [
    "weather_df = pd.read_csv('')"
   ]
  },
  {
   "cell_type": "markdown",
   "id": "2c77e2e5",
   "metadata": {},
   "source": [
    "### Perform correlation-based feature selection"
   ]
  },
  {
   "cell_type": "code",
   "execution_count": null,
   "id": "a7bc1622",
   "metadata": {},
   "outputs": [],
   "source": [
    "# reduce predictor pool using point biserial and kendall correlation analyses to pick strongly and significanly correlated weather predictors\n",
    "\n",
    "data = weather_df\n",
    "\n",
    "# creating new column 'row shading' which is the product of canopy closure and row spacing\n",
    "\n",
    "row_shading = weather_df['canopy_avg'] * weather_df['spacing (m)']\n",
    "insert_index = weather_df.columns.get_loc('target') + 1  # Insert after col1\n",
    "weather_df.insert(insert_index, 'row_shading', row_shading)\n",
    "\n",
    "# select the binary target variable and the list of continuous variables\n",
    "target_variable = 'target'\n",
    "\n",
    "# RTMA: \n",
    "continuous_variables = ['canopy_avg', 'row_shading', \n",
    "                        'MA_MeanAT', 'MA_MeanDP', 'MA_MeanRH', 'MA_MeanWS', 'MA_MeanRH86', 'MA_MeanATD', 'MA_MeanRF_IBM',\n",
    "                        'MA_MaxAT','MA_MaxDP', 'MA_MaxRH', 'MA_MaxWS', 'MA_MaxRH86','MA_MaxRF_IBM',\n",
    "                        'MA_MinAT', 'MA_MinDP', 'MA_MinRH', 'MA_MinWS', 'MA_MinRH86','MA_MinATD', \n",
    "                        'MA_SumAT', 'MA_SumDP','MA_SumRH', 'MA_SumWS', 'MA_SumRH86', 'MA_SumATD', 'MA_SumRF_IBM']"
   ]
  },
  {
   "cell_type": "code",
   "execution_count": null,
   "id": "10f6235c",
   "metadata": {},
   "outputs": [],
   "source": [
    "# perform point biserial correlation analysis for each continuous variable\n",
    "correlations = []\n",
    "p_values = []\n",
    "for variable in continuous_variables:\n",
    "    correlation, p_value = stats.pointbiserialr(data[variable], data[target_variable])\n",
    "    correlations.append(correlation)\n",
    "    p_values.append(p_value)\n",
    "\n",
    "# create a DataFrame to store and display the correlation results\n",
    "correlation_results = pd.DataFrame({'Variable': continuous_variables, 'Correlation': correlations, 'P-value': p_values}).sort_values('P-value', ascending = True)\n",
    "\n",
    "# print the correlation results\n",
    "display(correlation_results)"
   ]
  },
  {
   "cell_type": "code",
   "execution_count": null,
   "id": "2923bf28",
   "metadata": {},
   "outputs": [],
   "source": [
    "# perform kendall correlation analysis for each continuous variable\n",
    "correlations = []\n",
    "p_values = []\n",
    "for variable in continuous_variables:\n",
    "    correlation, p_value = stats.kendalltau(data[variable], data[target_variable])\n",
    "    correlations.append(correlation)\n",
    "    p_values.append(p_value)\n",
    "\n",
    "# create a DataFrame to store and display the correlation results\n",
    "correlation_results = pd.DataFrame({'Variable': continuous_variables, 'Correlation': correlations, 'P-value': p_values}).sort_values('P-value', ascending = True)\n",
    "\n",
    "# print the correlation results\n",
    "display(correlation_results)"
   ]
  },
  {
   "cell_type": "code",
   "execution_count": null,
   "id": "6f1581b8",
   "metadata": {},
   "outputs": [],
   "source": [
    "# index highest correlated predictors (unique functions) and most informative biological predictors\n",
    "    # and add to new data frame for training and testing data set\n",
    "weather_reduced_df = weather_df.loc[:,['target', \n",
    "                                       'soil type', #must remove categorical data for augmentation\n",
    "                                       'row_shading',\n",
    "                                       'MA_MaxRH86',\n",
    "                                       'MA_SumATD',\n",
    "                                       'MA_SumRF_IBM',\n",
    "                                       'MA_MaxWS'\n",
    "                                       ]]"
   ]
  },
  {
   "cell_type": "code",
   "execution_count": null,
   "id": "bf2fc79e",
   "metadata": {},
   "outputs": [],
   "source": [
    "# perform max absolute rescaling to normalize predictor variables due to major scale differences\n",
    "# copy the data - only the numerical data, not including spacing since it is truly categorical\n",
    "dt_max_scaled = weather_reduced_df.iloc[:, 2:]\n",
    "display(dt_max_scaled.head())"
   ]
  },
  {
   "cell_type": "markdown",
   "id": "d6ee49bc",
   "metadata": {},
   "source": [
    "### Normalize weather-only data set"
   ]
  },
  {
   "cell_type": "code",
   "execution_count": null,
   "id": "fa0b8549",
   "metadata": {},
   "outputs": [],
   "source": [
    "# apply normalization techniques\n",
    "for column in dt_max_scaled.columns:\n",
    "    dt_max_scaled[column] = dt_max_scaled[column]  / dt_max_scaled[column].abs().max()\n",
    "\n",
    "# plot normalized data\n",
    "sns.set_theme()\n",
    "sns.set(font_scale=0.5) \n",
    "ax = sns.catplot(data=dt_max_scaled, kind = 'bar')\n",
    "ax.set_xticklabels(rotation=90, ha=\"right\")\n",
    "ax.set(title = 'Max absolute rescaled data')"
   ]
  },
  {
   "cell_type": "code",
   "execution_count": null,
   "id": "40f9982a",
   "metadata": {},
   "outputs": [],
   "source": [
    "# split into x and y\n",
    "xdat = dt_max_scaled.loc[:,dt_max_scaled.columns != 'target' ]\n",
    "ydat = pd.DataFrame(weather_df.loc[:, 'target'])"
   ]
  },
  {
   "cell_type": "markdown",
   "id": "eae5c094",
   "metadata": {},
   "source": [
    "### Weather data load out "
   ]
  },
  {
   "cell_type": "markdown",
   "id": "3b75f658",
   "metadata": {},
   "source": [
    "### Data splitting\n",
    "* Training: 80%, testing 20%  \n",
    "* Stratification by apothecia threshold binary"
   ]
  },
  {
   "cell_type": "code",
   "execution_count": null,
   "id": "5847f853",
   "metadata": {},
   "outputs": [],
   "source": [
    "# returning the categorical soil type variable back to the data frame before stratification and load out\n",
    "xdat = pd.merge(weather_reduced_df.iloc[:, 1], xdat, left_index = True, right_index = True) "
   ]
  },
  {
   "cell_type": "code",
   "execution_count": null,
   "id": "89012349",
   "metadata": {},
   "outputs": [],
   "source": [
    "# using binary encoding to transform categorical soil type (ML cannot handle categorical)\n",
    "xdat['soil type'].replace(['sand', 'loamy sand', 'loam'], [0, 1, 2], inplace=True)"
   ]
  },
  {
   "cell_type": "code",
   "execution_count": null,
   "id": "7e3856f1",
   "metadata": {},
   "outputs": [],
   "source": [
    "# stratifying by ydat\n",
    "x_train, x_test, y_train, y_test = train_test_split(xdat, ydat, test_size=0.20, random_state=42, stratify=ydat)"
   ]
  },
  {
   "cell_type": "code",
   "execution_count": null,
   "id": "dd52087c",
   "metadata": {},
   "outputs": [],
   "source": [
    "# check training and testing data sets\n",
    "\n",
    "display(x_train)\n",
    "display(y_train)\n",
    "display(x_test)\n",
    "display(y_test)"
   ]
  },
  {
   "cell_type": "code",
   "execution_count": null,
   "id": "e157fdf4",
   "metadata": {},
   "outputs": [],
   "source": [
    "# checking that indexes for data split between x and y match for training and test\n",
    "print('x training indexes:', x_train.index)\n",
    "print('y training indexes:', y_train.index)\n",
    "\n",
    "print('x testing indexes:', x_test.index)\n",
    "print('y testing indexes:', y_test.index)"
   ]
  },
  {
   "cell_type": "code",
   "execution_count": null,
   "id": "bc4a04bb",
   "metadata": {},
   "outputs": [],
   "source": [
    "# checking stratification (equal proportions of positive solutions (target = 1) between train and test)\n",
    "print(sum(y_train['target'])/len(y_train))\n",
    "print(sum(y_test['target'])/len(y_test))"
   ]
  },
  {
   "cell_type": "markdown",
   "id": "9318367c",
   "metadata": {},
   "source": [
    "### Weather only - data load out"
   ]
  },
  {
   "cell_type": "code",
   "execution_count": null,
   "id": "fc577543",
   "metadata": {},
   "outputs": [],
   "source": [
    "x_train.to_csv('', index=False, header=True)\n",
    "y_train.to_csv('', index=False, header=True)\n",
    "x_test.to_csv('', index=False, header=True)\n",
    "y_test.to_csv('', index=False, header=True)"
   ]
  }
 ],
 "metadata": {
  "kernelspec": {
   "display_name": "Python 3 (ipykernel)",
   "language": "python",
   "name": "python3"
  },
  "language_info": {
   "codemirror_mode": {
    "name": "ipython",
    "version": 3
   },
   "file_extension": ".py",
   "mimetype": "text/x-python",
   "name": "python",
   "nbconvert_exporter": "python",
   "pygments_lexer": "ipython3",
   "version": "3.12.4"
  }
 },
 "nbformat": 4,
 "nbformat_minor": 5
}
